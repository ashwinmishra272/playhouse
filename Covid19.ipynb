{
  "nbformat": 4,
  "nbformat_minor": 0,
  "metadata": {
    "colab": {
      "name": "Covid19.ipynb",
      "provenance": [],
      "authorship_tag": "ABX9TyPbQOfyRBpB/UifHimqJwwg",
      "include_colab_link": true
    },
    "kernelspec": {
      "name": "python3",
      "display_name": "Python 3"
    }
  },
  "cells": [
    {
      "cell_type": "markdown",
      "metadata": {
        "id": "view-in-github",
        "colab_type": "text"
      },
      "source": [
        "<a href=\"https://colab.research.google.com/github/gourab337/playhouse/blob/master/Covid19.ipynb\" target=\"_parent\"><img src=\"https://colab.research.google.com/assets/colab-badge.svg\" alt=\"Open In Colab\"/></a>"
      ]
    },
    {
      "cell_type": "code",
      "metadata": {
        "id": "b78PGu3BZBoM",
        "colab_type": "code",
        "colab": {
          "base_uri": "https://localhost:8080/",
          "height": 33
        },
        "outputId": "c4593568-fbb7-468b-d2a7-91ff4c28cdb1"
      },
      "source": [
        "#Attribute : https://github.com/Kamaropoulos/COVID19Py\n",
        "pip install COVID19Py"
      ],
      "execution_count": 24,
      "outputs": [
        {
          "output_type": "stream",
          "text": [
            "Requirement already satisfied: COVID19Py in /usr/local/lib/python3.6/dist-packages (0.3.0)\n"
          ],
          "name": "stdout"
        }
      ]
    },
    {
      "cell_type": "code",
      "metadata": {
        "id": "OuPmVi4n0zMW",
        "colab_type": "code",
        "colab": {}
      },
      "source": [
        "import COVID19Py"
      ],
      "execution_count": 0,
      "outputs": []
    },
    {
      "cell_type": "code",
      "metadata": {
        "id": "2MpflY84eh4f",
        "colab_type": "code",
        "colab": {
          "base_uri": "https://localhost:8080/",
          "height": 33
        },
        "outputId": "30f509be-3a4b-481a-9a65-9027fd62167c"
      },
      "source": [
        "covid19=COVID19Py.COVID19()\n",
        "location= covid19.getLocationByCountryCode(\"US\")\n",
        "loc_data= location[0]\n",
        "virusdata= dict(loc_data['latest'])\n",
        "print(virusdata)"
      ],
      "execution_count": 28,
      "outputs": [
        {
          "output_type": "stream",
          "text": [
            "{'confirmed': 607670, 'deaths': 25832, 'recovered': 0}\n"
          ],
          "name": "stdout"
        }
      ]
    }
  ]
}