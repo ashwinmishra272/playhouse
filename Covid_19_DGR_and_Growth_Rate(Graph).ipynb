{
  "nbformat": 4,
  "nbformat_minor": 0,
  "metadata": {
    "colab": {
      "name": "Covid 19 DGR and Growth Rate(Graph).ipynb",
      "provenance": [],
      "authorship_tag": "ABX9TyNI9SN//j5pXoNo6N2LSDFb",
      "include_colab_link": true
    },
    "kernelspec": {
      "name": "python3",
      "display_name": "Python 3"
    }
  },
  "cells": [
    {
      "cell_type": "markdown",
      "metadata": {
        "id": "view-in-github",
        "colab_type": "text"
      },
      "source": [
        "<a href=\"https://colab.research.google.com/github/gourab337/playhouse/blob/master/Covid_19_DGR_and_Growth_Rate(Graph).ipynb\" target=\"_parent\"><img src=\"https://colab.research.google.com/assets/colab-badge.svg\" alt=\"Open In Colab\"/></a>"
      ]
    },
    {
      "cell_type": "code",
      "metadata": {
        "id": "Q-zvPrTkeoR6",
        "colab_type": "code",
        "colab": {}
      },
      "source": [
        "import numpy as np\n",
        "import matplotlib.pyplot as plt\n",
        "import pandas as pd\n",
        "from matplotlib import style\n",
        "import requests\n",
        "import ssl"
      ],
      "execution_count": 0,
      "outputs": []
    },
    {
      "cell_type": "code",
      "metadata": {
        "id": "4Tvu8EM6F0bi",
        "colab_type": "code",
        "colab": {
          "base_uri": "https://localhost:8080/",
          "height": 609
        },
        "outputId": "9282471e-e220-4f11-c646-29ff5e53953b"
      },
      "source": [
        "ctx = ssl.create_default_context()\n",
        "ctx.check_hostname = False\n",
        "ctx.verify_mode = ssl.CERT_NONE\n",
        "\n",
        "style.use('fivethirtyeight')\n",
        "\n",
        "url = \"https://api.covid19api.com/total/dayone/country/\"\n",
        "url2 = \"https://api.covid19api.com/countries\"\n",
        "\n",
        "print(\"\\n HIGH RISK COUNTRIES (DGR > 2%) : \\n\")\n",
        "print(\"Sl No.      \" + \"COUNTRY\".ljust(40,\" \") + \"DEATH GROWING RATE \\n\")\n",
        "\n",
        "hrc = set([])\n",
        "\n",
        "response2 = requests.request(\"GET\", url2)\n",
        "data2 = response2.json()\n",
        "\n",
        "k=0\n",
        "for i in data2 :\n",
        "    #break\n",
        "    try :\n",
        "        url = \"https://api.covid19api.com/total/dayone/country/\"\n",
        "        url = url + i[\"Slug\"]\n",
        "\n",
        "        response = requests.request(\"GET\", url)\n",
        "        data = response.json()\n",
        "\n",
        "        for j in data :\n",
        "            c=float(j[\"Confirmed\"])\n",
        "            d=float(j[\"Deaths\"])\n",
        "        \n",
        "            if c==0 :\n",
        "                dgr=0            \n",
        "            else :\n",
        "                dgr=(d/c)*100\n",
        "\n",
        "            if dgr>=2 :\n",
        "                hrc.add(i[\"Country\"])\n",
        "                k=k+1\n",
        "                print((str(k) + \". \").rjust(6,\" \") + \"      \" + i[\"Country\"].ljust(40,\" \") + str(dgr))\n",
        "                break\n",
        "    except :\n",
        "        print((\"------------The country \" + i[\"Country\"] + \" had some data problem \").ljust(80,\"-\") + \" Check your connection and try again.\")        \n",
        "\n",
        "print(\"\")\n",
        "#print(hrc)\n",
        "#print(\"\")\n",
        "\n",
        "#print(\" \" + \" \"+ \" \"+ \" \"+\" \"+ \" \")\n",
        "\n",
        "while True :\n",
        "    a = input(\"Enter a Country to know it's DEATH GROWING RATE (Enter 0 to exit) : \\n\")\n",
        "    if a == '0' :\n",
        "        break\n",
        "    else :\n",
        "        try :\n",
        "            a = a.lower()            \n",
        "            url = \"https://api.covid19api.com/total/dayone/country/\"\n",
        "\n",
        "            if (a == 'usa') or (a == 'us') or (a == 'united states of america') or (a == 'the united states of america') :\n",
        "                a = \"united states\"\n",
        "            elif (a == 'uk') or (a == 'england') or (a == 'great britain'):\n",
        "                a = \"united kingdom\"\n",
        "            elif a == 'uae':\n",
        "                a = 'united arab emirates'\n",
        "\n",
        "            url = url + a.replace(\" \",\"-\")\n",
        "\n",
        "            response = requests.request(\"GET\", url)\n",
        "            data = response.json()\n",
        "\n",
        "            i=0\n",
        "            x=[0]\n",
        "            y=[0]            \n",
        "            for j in data :\n",
        "                i=i+1\n",
        "                c=float(j[\"Confirmed\"])\n",
        "                d=float(j[\"Deaths\"])\n",
        "        \n",
        "                if c==0 :\n",
        "                    dgr=0            \n",
        "                else :\n",
        "                    dgr=(d/c)*100\n",
        "\n",
        "                x.append(i)\n",
        "                y.append(dgr)\n",
        "\n",
        "            plt.plot(x,y,c='r',linewidth=1.5)\n",
        "            plt.xlabel('Day (counted from the first coronavirus case)') \n",
        "            plt.ylabel('Death Growing Rate') \n",
        "            plt.title('DEATH GROWING RATE of ' + a.title()) \n",
        "            plt.show()\n",
        "            print(\"\")\n",
        "\n",
        "            resp=int(input(\"Do you want to see details for the above graph? (Press 1 for Yes (or) Press 0 for No):\\n\"))\n",
        "            if resp == 1:\n",
        "              a = a.lower()            \n",
        "              url = \"https://api.covid19api.com/total/dayone/country/\"\n",
        "\n",
        "              if (a == 'usa') or (a == 'us') or (a == 'united states of america') or (a == 'the united states of america') :\n",
        "                  a = \"united states\"\n",
        "              elif (a == 'uk') or (a == 'england') or (a == 'great britain'):\n",
        "                  a = \"united kingdom\"\n",
        "              elif a == 'uae':\n",
        "                   a = 'united arab emirates'\n",
        "\n",
        "              url = url + a.replace(\" \",\"-\")\n",
        "\n",
        "              response = requests.request(\"GET\", url)\n",
        "              data = response.json()\n",
        "              i=0\n",
        "              x=[0]\n",
        "              y=[0]            \n",
        "              for j in data :\n",
        "                i=i+1\n",
        "                c=float(j[\"Confirmed\"])\n",
        "                d=float(j[\"Deaths\"])\n",
        "        \n",
        "                if c==0 :\n",
        "                    dgr=0            \n",
        "                else :\n",
        "                    dgr=(d/c)*100\n",
        "\n",
        "                x.append(i)\n",
        "                y.append(dgr)\n",
        "                \n",
        "                if i==1 :\n",
        "                    print(\"      DAY     DATE          CONFIRMED      DEATHS       DEATH GROWING RATE (in %)\")\n",
        "\n",
        "                print(\"    \" + (str(i) + \".    \").rjust(10,\" \") + str(j[\"Date\"][0:10]) + \"    \" + str(int(c)).rjust(10,\" \") + \"    \" + str(int(d)).rjust(8,\" \") + \"      \" ,end=\"\")\n",
        "                print(f'{dgr:9.4f}')    \n",
        "                               \n",
        "            \n",
        "        except :                \n",
        "            print(\"    The country '\" + a + \"' had some data problem \\n---\" + \" Check your connection and try again (or) Check the country name again.---\\n\")\n",
        "\n",
        "print(\"\\nEXIT Successful. \\nThank You. \\n\")\n"
      ],
      "execution_count": 38,
      "outputs": [
        {
          "output_type": "stream",
          "text": [
            "\n",
            " HIGH RISK COUNTRIES (DGR > 2%) : \n",
            "\n",
            "Sl No.      COUNTRY                                 DEATH GROWING RATE \n",
            "\n",
            "\n",
            "Enter a Country to know it's DEATH GROWING RATE (Enter 0 to exit) : \n",
            "india\n"
          ],
          "name": "stdout"
        },
        {
          "output_type": "display_data",
          "data": {
            "image/png": "[encoded data removed]",
            "text/plain": [
              "<Figure size 432x288 with 1 Axes>"
            ]
          },
          "metadata": {
            "tags": []
          }
        },
        {
          "output_type": "stream",
          "text": [
            "\n",
            "Do you want to see details for the above graph? (Press 1 for Yes (or) Press 0 for No):\n",
            "0\n",
            "Enter a Country to know it's DEATH GROWING RATE (Enter 0 to exit) : \n",
            "0\n",
            "\n",
            "EXIT Successful. \n",
            "Thank You. \n",
            "\n"
          ],
          "name": "stdout"
        }
      ]
    }
  ]
}
