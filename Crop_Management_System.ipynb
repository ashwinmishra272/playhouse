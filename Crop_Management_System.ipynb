{
  "nbformat": 4,
  "nbformat_minor": 0,
  "metadata": {
    "colab": {
      "name": "Crop_Management_System.ipynb",
      "provenance": [],
      "collapsed_sections": [],
      "include_colab_link": true
    },
    "kernelspec": {
      "name": "python3",
      "display_name": "Python 3"
    }
  },
  "cells": [
    {
      "cell_type": "markdown",
      "metadata": {
        "id": "view-in-github",
        "colab_type": "text"
      },
      "source": [
        "<a href=\"https://colab.research.google.com/github/gourab337/playhouse/blob/master/Crop_Management_System.ipynb\" target=\"_parent\"><img src=\"https://colab.research.google.com/assets/colab-badge.svg\" alt=\"Open In Colab\"/></a>"
      ]
    },
    {
      "cell_type": "code",
      "metadata": {
        "id": "V6_61r1irXtX",
        "colab_type": "code",
        "colab": {}
      },
      "source": [
        "import pandas as pd\n",
        "import re\n",
        "import matplotlib.pyplot as plt\n",
        "import sys\n",
        "from getpass import getpass\n"
      ],
      "execution_count": 0,
      "outputs": []
    },
    {
      "cell_type": "code",
      "metadata": {
        "id": "k5QtDM5Wsw9Q",
        "colab_type": "code",
        "colab": {}
      },
      "source": [
        "class Admin:\n",
        "    def __init__(self, fname, lname):\n",
        "      self.firstname = fname\n",
        "      self.lastname = lname\n",
        "\n",
        "    def getUsername(self):\n",
        "      #print(self.firstname, self.lastname)\n",
        "      print(\"Enter Username:\")\n",
        "      self.username=input()\n",
        "    def getPassword(self):\n",
        "      self.password = getpass(\"Enter Password:\")\n",
        "      Admin.password=self.password\n",
        "      Admin.username=self.username\n",
        "      print(\"****************User Registered******************\")\n",
        "    "
      ],
      "execution_count": 0,
      "outputs": []
    },
    {
      "cell_type": "code",
      "metadata": {
        "id": "9jGzcIsqw6fe",
        "colab_type": "code",
        "outputId": "a07f3f20-a297-4402-cc10-1575d28976cf",
        "colab": {
          "base_uri": "https://localhost:8080/",
          "height": 117
        }
      },
      "source": [
        "#Use the Person class to create an object, and then execute the printname method:\n",
        "fname=input(\"Enter First Name:\")\n",
        "lname=input(\"Enter Last Name:\")\n",
        "x = Admin(fname, lname)\n",
        "x.getUsername()\n",
        "x.getPassword()"
      ],
      "execution_count": 13,
      "outputs": [
        {
          "output_type": "stream",
          "text": [
            "Enter First Name:Gourab\n",
            "Enter Last Name:Chakraborty\\\n",
            "Enter Username:\n",
            "gourab337\n",
            "Enter Password:··········\n",
            "****************User Registered******************\n"
          ],
          "name": "stdout"
        }
      ]
    },
    {
      "cell_type": "markdown",
      "metadata": {
        "id": "xyXnfS35v5IJ",
        "colab_type": "text"
      },
      "source": [
        ""
      ]
    },
    {
      "cell_type": "code",
      "metadata": {
        "id": "SKmIU0nLtLcL",
        "colab_type": "code",
        "colab": {}
      },
      "source": [
        "class Login:\n",
        "    def __init__(self, username, password):\n",
        "        self.username = username\n",
        "        self.password = password\n",
        "     \n",
        "        Login.username=self.username\n",
        "        Login.password=self.password\n",
        "        Login.token=0\n",
        "        if((Admin.username == Login.username) and (Admin.password == Login.password)):\n",
        "            print(\"Login Successful!\")\n",
        "            Login.token=True\n",
        "        else:\n",
        "            print(\"Login Failed!\")\n",
        "            Login.token=False\n",
        "        Login.token=self.token"
      ],
      "execution_count": 0,
      "outputs": []
    },
    {
      "cell_type": "code",
      "metadata": {
        "id": "71_2gW9T542x",
        "colab_type": "code",
        "colab": {
          "base_uri": "https://localhost:8080/",
          "height": 67
        },
        "outputId": "28fad89e-6471-4b6a-df79-8b378f6aecc9"
      },
      "source": [
        "uname=input(\"Enter Username:\")\n",
        "pword = getpass(\"Enter Password:\")\n",
        "x = Login(uname, pword)\n",
        "#print(Login.token)"
      ],
      "execution_count": 15,
      "outputs": [
        {
          "output_type": "stream",
          "text": [
            "Enter Username:gourab337\n",
            "Enter Password:··········\n",
            "Login Successful!\n"
          ],
          "name": "stdout"
        }
      ]
    },
    {
      "cell_type": "code",
      "metadata": {
        "id": "1hCRdh4AAtlu",
        "colab_type": "code",
        "colab": {}
      },
      "source": [
        "#class Productivity_Details:\n",
        "  def TokenCheck(token):\n",
        "    if(Login.token == 1):\n",
        "      path1 = \"CropsDataFile.xlsx\"\n",
        "      cropdata = pd.read_excel(path1)\n",
        "      print(cropdata.columns)\n",
        "      cropdatanew = cropdata.groupby(['Crop_Year', 'Crop', 'State_Name', 'District_Name'])\n",
        "      print(cropdatanew.first())\n",
        "    else:\n",
        "      uname=input(\"Enter Username:\")\n",
        "      pword = getpass(\"Enter Password:\")\n",
        "      x = Login(uname, pword)"
      ],
      "execution_count": 0,
      "outputs": []
    },
    {
      "cell_type": "code",
      "metadata": {
        "id": "90ocAlCNCQCW",
        "colab_type": "code",
        "outputId": "30df66ff-5dab-4d59-f9ef-b03385e33c9c",
        "colab": {
          "base_uri": "https://localhost:8080/",
          "height": 318
        }
      },
      "source": [
        "y = TokenCheck(Login.token)"
      ],
      "execution_count": 19,
      "outputs": [
        {
          "output_type": "stream",
          "text": [
            "Index(['State_Name', 'District_Name', 'Crop_Year', 'Season', 'Crop', 'Area',\n",
            "       'Production'],\n",
            "      dtype='object')\n",
            "                                                                                  Season  ...  Production\n",
            "Crop_Year Crop         State_Name                  District_Name                          ...            \n",
            "1997      Arhar/Tur    Andhra Pradesh              ANANTAPUR                 Kharif       ...     2600.00\n",
            "          Bajra        Andhra Pradesh              ANANTAPUR                 Kharif       ...      500.00\n",
            "          Castor seed  Andhra Pradesh              ANANTAPUR                 Kharif       ...      100.00\n",
            "          Cotton(lint) Andhra Pradesh              ANANTAPUR                 Kharif       ...     9400.00\n",
            "          Dry chillies Andhra Pradesh              ANANTAPUR                 Kharif       ...     7100.00\n",
            "...                                                                                  ...  ...         ...\n",
            "2010      Turmeric     Andaman and Nicobar Islands NORTH AND MIDDLE ANDAMAN  Rabi         ...      376.50\n",
            "                                                   SOUTH ANDAMANS            Rabi         ...      105.00\n",
            "          Urad         Andaman and Nicobar Islands NICOBARS                  Rabi         ...        1.16\n",
            "                                                   NORTH AND MIDDLE ANDAMAN  Rabi         ...      458.79\n",
            "                                                   SOUTH ANDAMANS            Rabi         ...       15.05\n",
            "\n",
            "[272 rows x 3 columns]\n"
          ],
          "name": "stdout"
        }
      ]
    }
  ]
}